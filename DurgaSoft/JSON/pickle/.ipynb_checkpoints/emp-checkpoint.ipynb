{
 "cells": [
  {
   "cell_type": "code",
   "execution_count": 1,
   "id": "ef843ec0",
   "metadata": {},
   "outputs": [],
   "source": [
    "import pickle\n",
    "\n",
    "class Employee:\n",
    "    def __init__(self,eno,ename,esal,eadd):\n",
    "        self.eno = eno\n",
    "        self.ename = ename\n",
    "        self.esal = esal\n",
    "        self.eadd = eadd\n",
    "    def display(self):\n",
    "        print('Eno:{},Ename:{},Esal:{},Eadd:{}'.format(self.eno,self.ename,self.esal,self.eadd))\n",
    "        \n",
    "# empobj = Employee(1,'deepak',12000,'Matasi')\n",
    "# #Serialization or Pickling\n",
    "# with open(\"emp.ser\",\"wb\") as f:\n",
    "#     pickle.dump(empobj,f)"
   ]
  }
 ],
 "metadata": {
  "kernelspec": {
   "display_name": "Python 3 (ipykernel)",
   "language": "python",
   "name": "python3"
  },
  "language_info": {
   "codemirror_mode": {
    "name": "ipython",
    "version": 3
   },
   "file_extension": ".py",
   "mimetype": "text/x-python",
   "name": "python",
   "nbconvert_exporter": "python",
   "pygments_lexer": "ipython3",
   "version": "3.9.13"
  }
 },
 "nbformat": 4,
 "nbformat_minor": 5
}
